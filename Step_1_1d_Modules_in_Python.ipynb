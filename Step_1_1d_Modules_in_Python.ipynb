{
  "nbformat": 4,
  "nbformat_minor": 0,
  "metadata": {
    "colab": {
      "name": "Step_1_1d_Modules_in_Python.ipynb",
      "provenance": []
    },
    "kernelspec": {
      "name": "python3",
      "display_name": "Python 3"
    },
    "language_info": {
      "name": "python"
    }
  },
  "cells": [
    {
      "cell_type": "code",
      "execution_count": null,
      "metadata": {
        "colab": {
          "base_uri": "https://localhost:8080/"
        },
        "id": "W8_7Z54537CN",
        "outputId": "25a6507b-6a02-443b-a4cb-ba413ed9bbc2"
      },
      "outputs": [
        {
          "output_type": "stream",
          "name": "stdout",
          "text": [
            "2022-05-18 01:58:07.107153\n",
            "2022\n",
            "Wednesday\n"
          ]
        }
      ],
      "source": [
        "import datetime_py\n",
        "time_now = datetime.datetime.now()\n",
        "\n",
        "print(time_now)\n",
        "\n",
        "print(time_now.year)\n",
        "print(time_now.strftime(\"%A\"))\n"
      ]
    },
    {
      "cell_type": "code",
      "source": [
        "new_date = datetime.date(2020, 5, 17)\n",
        "\n",
        "print(new_date)"
      ],
      "metadata": {
        "colab": {
          "base_uri": "https://localhost:8080/"
        },
        "id": "0RTTKswd5mAM",
        "outputId": "2c11c92b-d3ce-4795-b0d5-17886d806ab8"
      },
      "execution_count": null,
      "outputs": [
        {
          "output_type": "stream",
          "name": "stdout",
          "text": [
            "2020-05-17\n"
          ]
        }
      ]
    },
    {
      "cell_type": "code",
      "source": [
        "x = datetime.datetime(2018, 6,1)\n",
        "print(x.strftime(\"%A\"))\n",
        "\n",
        "# month name\n",
        "print(x.strftime(\"%B\"))\n",
        "\n",
        "# weekday name\n",
        "print(x.strftime(\"%d\"))\n",
        "\n",
        "#Weekday Name\n",
        "print(x.strftime(\"%Y\"))"
      ],
      "metadata": {
        "colab": {
          "base_uri": "https://localhost:8080/"
        },
        "id": "KkI2zEZo5w0N",
        "outputId": "2df6bb83-a74b-49ea-8453-f1503e3e1aab"
      },
      "execution_count": null,
      "outputs": [
        {
          "output_type": "stream",
          "name": "stdout",
          "text": [
            "Friday\n",
            "June\n",
            "01\n",
            "2018\n"
          ]
        }
      ]
    },
    {
      "cell_type": "code",
      "source": [
        "import math\n",
        "sq_root = math.sqrt(64)\n",
        "\n",
        "print(sq_root)"
      ],
      "metadata": {
        "colab": {
          "base_uri": "https://localhost:8080/"
        },
        "id": "frqaci9p8uOT",
        "outputId": "3c9f61fa-ad08-40b7-ae73-a1fbbaa5309b"
      },
      "execution_count": null,
      "outputs": [
        {
          "output_type": "stream",
          "name": "stdout",
          "text": [
            "8.0\n"
          ]
        }
      ]
    },
    {
      "cell_type": "code",
      "source": [
        "round_higher = math.ceil(1.4) # round up\n",
        "round_lower = math.floor(1.4) # round down\n",
        "\n",
        "print(round_higher)\n",
        "print(round_lower)"
      ],
      "metadata": {
        "colab": {
          "base_uri": "https://localhost:8080/"
        },
        "id": "Dqehi3a289H_",
        "outputId": "d2b36566-e365-43c8-f2ff-e87c65409a19"
      },
      "execution_count": null,
      "outputs": [
        {
          "output_type": "stream",
          "name": "stdout",
          "text": [
            "2\n",
            "1\n"
          ]
        }
      ]
    },
    {
      "cell_type": "code",
      "source": [
        "pi_value =math.pi\n",
        "print(pi_value)"
      ],
      "metadata": {
        "colab": {
          "base_uri": "https://localhost:8080/"
        },
        "id": "NRV43Xml9I0B",
        "outputId": "57114689-4028-4cd0-95b5-104a7c1a2780"
      },
      "execution_count": null,
      "outputs": [
        {
          "output_type": "stream",
          "name": "stdout",
          "text": [
            "3.141592653589793\n"
          ]
        }
      ]
    },
    {
      "cell_type": "code",
      "source": [
        "import random\n",
        "random_integer = random.randint(0,9)\n",
        "\n",
        "print(random_integer)\n"
      ],
      "metadata": {
        "colab": {
          "base_uri": "https://localhost:8080/"
        },
        "id": "VKrdna129RFz",
        "outputId": "316ee84d-3ad7-4457-8ea5-7ed6129903d5"
      },
      "execution_count": null,
      "outputs": [
        {
          "output_type": "stream",
          "name": "stdout",
          "text": [
            "8\n"
          ]
        }
      ]
    },
    {
      "cell_type": "code",
      "source": [
        ""
      ],
      "metadata": {
        "id": "Fs-jWrTv-WeL"
      },
      "execution_count": null,
      "outputs": []
    }
  ]
}